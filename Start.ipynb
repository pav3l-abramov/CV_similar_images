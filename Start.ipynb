{
 "cells": [
  {
   "cell_type": "markdown",
   "id": "ec5d51df",
   "metadata": {},
   "source": [
    "# Поиск похожих изображений"
   ]
  },
  {
   "cell_type": "markdown",
   "id": "504dba14",
   "metadata": {},
   "source": [
    "Импорт необходимых библиотек"
   ]
  },
  {
   "cell_type": "code",
   "execution_count": 26,
   "id": "0649dc02",
   "metadata": {},
   "outputs": [],
   "source": [
    "import numpy as np\n",
    "import cv2 as cv\n",
    "from matplotlib import pyplot as plt\n",
    "from skimage import *\n",
    "import pandas as pd\n",
    "import glob\n",
    "import joblib\n",
    "import base64"
   ]
  },
  {
   "cell_type": "markdown",
   "id": "a047d889",
   "metadata": {},
   "source": [
    "Cоздаем базу дескрипторов для обучения и сохраним все в один вектор"
   ]
  },
  {
   "cell_type": "code",
   "execution_count": 2,
   "id": "3ec826a3",
   "metadata": {},
   "outputs": [],
   "source": [
    "arr=[]\n",
    "k=0\n",
    "for i in glob.glob('images/train/*.jpg'):\n",
    "    img = cv.imread(i)\n",
    "    gray= cv.cvtColor(img,cv.COLOR_BGR2GRAY)\n",
    "    sift = cv.SIFT_create()\n",
    "    kp, des = sift.detectAndCompute(gray,None)\n",
    "    for j in range(des.shape[0]):\n",
    "        arr.append(des[j])\n",
    "\n",
    "        \n",
    "deses=[]\n",
    "deses = np.array(arr)\n",
    "deses.shape"
   ]
  },
  {
   "cell_type": "markdown",
   "id": "56594b35",
   "metadata": {},
   "source": [
    "Кластеризация изображений по одному общему вектору"
   ]
  },
  {
   "cell_type": "code",
   "execution_count": 4,
   "id": "b3b9c125",
   "metadata": {},
   "outputs": [
    {
     "data": {
      "text/html": [
       "<style>#sk-container-id-1 {color: black;background-color: white;}#sk-container-id-1 pre{padding: 0;}#sk-container-id-1 div.sk-toggleable {background-color: white;}#sk-container-id-1 label.sk-toggleable__label {cursor: pointer;display: block;width: 100%;margin-bottom: 0;padding: 0.3em;box-sizing: border-box;text-align: center;}#sk-container-id-1 label.sk-toggleable__label-arrow:before {content: \"▸\";float: left;margin-right: 0.25em;color: #696969;}#sk-container-id-1 label.sk-toggleable__label-arrow:hover:before {color: black;}#sk-container-id-1 div.sk-estimator:hover label.sk-toggleable__label-arrow:before {color: black;}#sk-container-id-1 div.sk-toggleable__content {max-height: 0;max-width: 0;overflow: hidden;text-align: left;background-color: #f0f8ff;}#sk-container-id-1 div.sk-toggleable__content pre {margin: 0.2em;color: black;border-radius: 0.25em;background-color: #f0f8ff;}#sk-container-id-1 input.sk-toggleable__control:checked~div.sk-toggleable__content {max-height: 200px;max-width: 100%;overflow: auto;}#sk-container-id-1 input.sk-toggleable__control:checked~label.sk-toggleable__label-arrow:before {content: \"▾\";}#sk-container-id-1 div.sk-estimator input.sk-toggleable__control:checked~label.sk-toggleable__label {background-color: #d4ebff;}#sk-container-id-1 div.sk-label input.sk-toggleable__control:checked~label.sk-toggleable__label {background-color: #d4ebff;}#sk-container-id-1 input.sk-hidden--visually {border: 0;clip: rect(1px 1px 1px 1px);clip: rect(1px, 1px, 1px, 1px);height: 1px;margin: -1px;overflow: hidden;padding: 0;position: absolute;width: 1px;}#sk-container-id-1 div.sk-estimator {font-family: monospace;background-color: #f0f8ff;border: 1px dotted black;border-radius: 0.25em;box-sizing: border-box;margin-bottom: 0.5em;}#sk-container-id-1 div.sk-estimator:hover {background-color: #d4ebff;}#sk-container-id-1 div.sk-parallel-item::after {content: \"\";width: 100%;border-bottom: 1px solid gray;flex-grow: 1;}#sk-container-id-1 div.sk-label:hover label.sk-toggleable__label {background-color: #d4ebff;}#sk-container-id-1 div.sk-serial::before {content: \"\";position: absolute;border-left: 1px solid gray;box-sizing: border-box;top: 0;bottom: 0;left: 50%;z-index: 0;}#sk-container-id-1 div.sk-serial {display: flex;flex-direction: column;align-items: center;background-color: white;padding-right: 0.2em;padding-left: 0.2em;position: relative;}#sk-container-id-1 div.sk-item {position: relative;z-index: 1;}#sk-container-id-1 div.sk-parallel {display: flex;align-items: stretch;justify-content: center;background-color: white;position: relative;}#sk-container-id-1 div.sk-item::before, #sk-container-id-1 div.sk-parallel-item::before {content: \"\";position: absolute;border-left: 1px solid gray;box-sizing: border-box;top: 0;bottom: 0;left: 50%;z-index: -1;}#sk-container-id-1 div.sk-parallel-item {display: flex;flex-direction: column;z-index: 1;position: relative;background-color: white;}#sk-container-id-1 div.sk-parallel-item:first-child::after {align-self: flex-end;width: 50%;}#sk-container-id-1 div.sk-parallel-item:last-child::after {align-self: flex-start;width: 50%;}#sk-container-id-1 div.sk-parallel-item:only-child::after {width: 0;}#sk-container-id-1 div.sk-dashed-wrapped {border: 1px dashed gray;margin: 0 0.4em 0.5em 0.4em;box-sizing: border-box;padding-bottom: 0.4em;background-color: white;}#sk-container-id-1 div.sk-label label {font-family: monospace;font-weight: bold;display: inline-block;line-height: 1.2em;}#sk-container-id-1 div.sk-label-container {text-align: center;}#sk-container-id-1 div.sk-container {/* jupyter's `normalize.less` sets `[hidden] { display: none; }` but bootstrap.min.css set `[hidden] { display: none !important; }` so we also need the `!important` here to be able to override the default hidden behavior on the sphinx rendered scikit-learn.org. See: https://github.com/scikit-learn/scikit-learn/issues/21755 */display: inline-block !important;position: relative;}#sk-container-id-1 div.sk-text-repr-fallback {display: none;}</style><div id=\"sk-container-id-1\" class=\"sk-top-container\"><div class=\"sk-text-repr-fallback\"><pre>KMeans(n_clusters=2048)</pre><b>In a Jupyter environment, please rerun this cell to show the HTML representation or trust the notebook. <br />On GitHub, the HTML representation is unable to render, please try loading this page with nbviewer.org.</b></div><div class=\"sk-container\" hidden><div class=\"sk-item\"><div class=\"sk-estimator sk-toggleable\"><input class=\"sk-toggleable__control sk-hidden--visually\" id=\"sk-estimator-id-1\" type=\"checkbox\" checked><label for=\"sk-estimator-id-1\" class=\"sk-toggleable__label sk-toggleable__label-arrow\">KMeans</label><div class=\"sk-toggleable__content\"><pre>KMeans(n_clusters=2048)</pre></div></div></div></div></div>"
      ],
      "text/plain": [
       "KMeans(n_clusters=2048)"
      ]
     },
     "execution_count": 4,
     "metadata": {},
     "output_type": "execute_result"
    }
   ],
   "source": [
    "from sklearn.cluster import KMeans\n",
    "model = KMeans(n_clusters=2048)\n",
    "model.fit(deses)"
   ]
  },
  {
   "cell_type": "markdown",
   "id": "3dcae1a2",
   "metadata": {},
   "source": [
    "Сохраним модель для использования уже в рабочей части программы"
   ]
  },
  {
   "cell_type": "code",
   "execution_count": 5,
   "id": "7c0989f4",
   "metadata": {},
   "outputs": [
    {
     "data": {
      "text/plain": [
       "['model/model.sav']"
      ]
     },
     "execution_count": 5,
     "metadata": {},
     "output_type": "execute_result"
    }
   ],
   "source": [
    "joblib.dump(model, 'model/model.sav')"
   ]
  },
  {
   "cell_type": "markdown",
   "id": "9147bbd7",
   "metadata": {},
   "source": [
    "Загрузка расчитанной модели, чтобы не ждать, пока рассчитается новая модель "
   ]
  },
  {
   "cell_type": "code",
   "execution_count": 6,
   "id": "18378970",
   "metadata": {},
   "outputs": [
    {
     "data": {
      "text/plain": [
       "array([1556, 1569, 1640,  125,  469, 1605, 1808,  568,  137,  879, 1682,\n",
       "       1526, 2000,   51, 1605,  232,   51,  842,  402, 1313,  390, 1868,\n",
       "         23,  386,  787,  891, 1526, 1350, 1427,  632,  276,   15,  489,\n",
       "       1835,  315,  934,  231,  842,  842, 1486, 1530, 1832, 1951,  547,\n",
       "       2003,  905,  905, 1434,  147, 1410, 1309,  648, 1336,  493, 1628,\n",
       "       1966,  394,  808, 1739, 1413, 1870, 1401, 1413,  405, 1842, 1486,\n",
       "       1634,  810, 1307,  540,  414,  779, 1117,  193, 1222,  366,  918,\n",
       "       1567, 2027,  124, 2044,  695, 1859, 1806, 1859, 1353,  836,  947,\n",
       "        634, 1636,  486, 2019, 1023, 1762,  348,  590, 1806,  891, 1827,\n",
       "       1965, 1684,  257, 1532,  890, 1375, 1680,  976, 1667,  894, 1754,\n",
       "       1946,  929,  450,  431, 1694, 1300,  198, 1595,  774, 1043,  860,\n",
       "         82,  621,  460,  378, 1675, 1940,  307, 1687, 1770,  546,  465,\n",
       "       1700, 1578, 1072,  510,  518,  290, 1646,  870, 1747, 1525, 1033,\n",
       "       1823, 1714, 1825, 1914,  884, 1199,  704,  167,  705, 1952, 1227,\n",
       "       1266, 1266, 1896, 1045, 1934,  543, 1632,  768,  755, 1077, 1295,\n",
       "        586,  560,  389,  823,  110, 1400,  794, 1738, 1568,  598,  716,\n",
       "        598,  744,  320, 1351,  528, 1488, 1288,  156, 1700, 1166, 1115,\n",
       "       1625,  598,  603,  135,  553,  261, 1752,  982,  808, 1458, 1747,\n",
       "        948,  983, 1066,  298,  255,  739,  160,  204,  259,  878,   11,\n",
       "         98,  247,  982, 1645, 1087,  518, 1727, 1290,  354,  436,   24,\n",
       "        678,  356,  562,  888,  652, 1334,  692, 1652, 1031, 1711, 1163,\n",
       "        732, 1018,  751,  531, 1159, 1451,  321,  264, 1099, 1282, 1484,\n",
       "        882, 1351,  962, 1160,  697, 1288,  172,  459, 1594, 1144, 1116,\n",
       "        911,  917,  366, 1854, 1472,  731, 1116,   21, 1374,  670, 1693,\n",
       "        415, 1319, 1754,  921, 1020,  874, 1021, 1287, 1228,  813,  293,\n",
       "         52,  366, 1381, 1004,  962,   84,  397,  897, 1447,  597,  800,\n",
       "        366,  334, 1306, 2010,  834,  162, 1747,  716,  564,  854, 1951,\n",
       "        821,   42,  381,  678, 1779,  735,  165, 1449,  960, 1066, 1854,\n",
       "        178,  547, 1075, 1391, 1557, 1038,  614,  575,  721, 1351, 1908,\n",
       "       1386, 1989,  559, 1906, 1142, 1592,  956, 1350,  982,  961, 2037,\n",
       "        901, 1938, 1942, 2042, 1863,  965,  132, 2006, 1514, 2037, 1638,\n",
       "        704,  720, 1578,  463,   11, 1736,  112,  798, 1623,  312,  256,\n",
       "        800,  984, 1652,  655, 1785, 1760, 1563, 1737, 1226,  963, 1751,\n",
       "        871, 2025, 1483, 1374,  109,  161,   39, 1160, 1443,  544,  772,\n",
       "        547,   16, 1192, 1083,  590,  259, 1532,  800, 1711, 1001, 1335,\n",
       "       1070, 1291,  183, 1671,  101, 1103, 1387, 1028,  572,  801, 1878,\n",
       "        427,  132,  832, 2031,  726, 1773,  646, 1761,  766,  615,   19,\n",
       "         19, 1561,  233, 1844, 1821,  720, 1721,  748, 1821, 1122, 1703,\n",
       "       1384, 1264, 1535, 1697, 1642, 1681,  550,  969,  211,  131,  132,\n",
       "       1844,  117,  767, 1245, 1017,  454,  295,  725,   61, 1209, 1456,\n",
       "       1885,  524,  411, 1899, 1028, 1393, 1468, 1257,  422, 1689, 1279,\n",
       "       1056, 1870,   34, 1999,  334,    5,   92, 1015, 1346,  577, 1871,\n",
       "        684,  795,  478,  720, 1618,  486,  932, 1731, 1238, 1962, 1984,\n",
       "       1081, 1909,  343,  359,  160,    0,  873, 1498, 1203, 1655,  228,\n",
       "       1640,   30, 1364, 1371,  821, 1335,  649,  864,  955, 1197, 1535,\n",
       "       1258,  114,  484,   45, 1725,  593,  287,  718,   21, 1638, 1734,\n",
       "       1746, 1127,   23,   75, 1600, 1564, 1484, 1443,  867,  479,  238,\n",
       "       1369,  967, 1326, 1671,  867, 1215,  160, 1996, 1305, 1316, 1715,\n",
       "       1717,  186, 1299, 1791, 1419,  756,  891, 1089, 2013, 1502, 1979,\n",
       "        530,   19,  801,  346, 1352,  364, 1298, 1832,  116,   81,  564,\n",
       "        962,  705, 1159,  949,   43,  291, 1767, 1114, 1883,   63,  945,\n",
       "        722, 1838,  998, 1268,  538,  298, 1494,  261,  624, 1768,  546,\n",
       "       1075,  536,  138,   62,  381, 1378, 1605, 1589, 1836,  264,  235,\n",
       "        227,  472,  531,  979, 1426, 1106,  451,  507, 1333,  269,  730,\n",
       "        313,  479,  413,  958,  933, 1452,   71, 1020, 1088,  922, 1075,\n",
       "        637,  512,  168, 1847,  565,  378,  200, 1693, 1946,  222,  433,\n",
       "         88,  572,  877,  155,  283, 1208,  668, 1027, 1972, 1611, 1439,\n",
       "       1143,  541, 1108, 1107, 1505,  677, 1873, 1370,  733,  277, 1782,\n",
       "       1384,  866, 1126,  455, 1297, 1909,  988, 1425, 1933,  754,  351,\n",
       "         14, 1834, 1280,  662, 1988,   16,  718,  368, 1401,  851,   79,\n",
       "       1690,   28,  554, 1220, 1335,  584, 1941,  417, 1443, 1268, 1327,\n",
       "       1833,  370, 1518,  234,  688, 1498, 1842,  933,  100,  446,   57,\n",
       "       1299,  444,  911, 1707, 1707, 1604, 1611, 1769, 1027,  241, 1675,\n",
       "       1754, 1874,  877,  925, 1593, 1877,  736,  698,  831,  345, 1245,\n",
       "       1870, 1155, 1645, 1453, 1515, 1905, 1088, 1066, 1731, 1032, 1903,\n",
       "       1042,   22, 1835,  789,  548, 1549, 1283, 1185, 1736,  112,  982,\n",
       "       1400, 1595,  101, 1619, 1889, 1107,   24,  277,   24,  277,  708,\n",
       "       1940, 1337, 1223, 1534, 1085, 1295,  147, 1400,  149,  477,   37,\n",
       "       1613, 1400, 1113, 1307, 1088, 1170, 1583, 1959, 1094, 1583,  623,\n",
       "       1910, 1375, 1511,  486, 1321,  547,  448,  226, 1812,  440,  565,\n",
       "        603, 1424, 1103, 2014, 1663,   42, 1280, 1418,  833, 1991, 2000,\n",
       "       1311,  842, 1129,  893,  713, 1019, 1866,  859, 1079, 1015, 1894,\n",
       "       1094, 1094,  377, 1849,  377,  818, 1129,  489, 1019,  239])"
      ]
     },
     "execution_count": 6,
     "metadata": {},
     "output_type": "execute_result"
    }
   ],
   "source": [
    "loaded_model = joblib.load('model/model.sav')\n",
    "loaded_model.predict(des)"
   ]
  },
  {
   "cell_type": "markdown",
   "id": "dae02991",
   "metadata": {},
   "source": [
    "Вывод имени изображения и принадлежность каждого бина к определенному кластеру по обученной модели и сохраним все в таблицу"
   ]
  },
  {
   "cell_type": "code",
   "execution_count": 7,
   "id": "f0746056",
   "metadata": {},
   "outputs": [],
   "source": [
    "img_name = []\n",
    "embeddings = []\n",
    "k=0\n",
    "for i in glob.glob('images/voc/*.jpg'):\n",
    "    img_name.append(i.split(\"/\")[-1][4:20])\n",
    "    img = cv.imread(i)\n",
    "    gray= cv.cvtColor(img,cv.COLOR_BGR2GRAY)\n",
    "    sift = cv.SIFT_create()\n",
    "    kp, des = sift.detectAndCompute(gray,None)\n",
    "    embeddings.append(base64.b64encode(loaded_model.predict(des)))\n",
    "    \n",
    "images_info = {'link': img_name,'embedding': embeddings}\n",
    "images_df = pd.DataFrame(data=images_info)\n",
    "images_df.to_csv('output.csv',index=False) "
   ]
  },
  {
   "cell_type": "markdown",
   "id": "341cbea0",
   "metadata": {},
   "source": [
    "Чтение полученного файла для проверки правильности вывода. Перевод данных в десятичный формат.\n",
    "\n",
    "*Было сохранеие в виде байта, а не строки из-за особенности сохранения большой строки в таблицу*"
   ]
  },
  {
   "cell_type": "code",
   "execution_count": 22,
   "id": "99e72932",
   "metadata": {},
   "outputs": [
    {
     "data": {
      "text/html": [
       "<div>\n",
       "<style scoped>\n",
       "    .dataframe tbody tr th:only-of-type {\n",
       "        vertical-align: middle;\n",
       "    }\n",
       "\n",
       "    .dataframe tbody tr th {\n",
       "        vertical-align: top;\n",
       "    }\n",
       "\n",
       "    .dataframe thead th {\n",
       "        text-align: right;\n",
       "    }\n",
       "</style>\n",
       "<table border=\"1\" class=\"dataframe\">\n",
       "  <thead>\n",
       "    <tr style=\"text-align: right;\">\n",
       "      <th></th>\n",
       "      <th>link</th>\n",
       "      <th>embedding</th>\n",
       "    </tr>\n",
       "  </thead>\n",
       "  <tbody>\n",
       "    <tr>\n",
       "      <th>0</th>\n",
       "      <td>2007_000027.jpg</td>\n",
       "      <td>[1459, 135, 1849, 288, 1625, 1789, 1989, 646, ...</td>\n",
       "    </tr>\n",
       "    <tr>\n",
       "      <th>1</th>\n",
       "      <td>2007_000032.jpg</td>\n",
       "      <td>[517, 1234, 1888, 1091, 1978, 1830, 1888, 1017...</td>\n",
       "    </tr>\n",
       "    <tr>\n",
       "      <th>2</th>\n",
       "      <td>2007_000033.jpg</td>\n",
       "      <td>[942, 371, 411, 632, 478, 266, 75, 23, 499, 13...</td>\n",
       "    </tr>\n",
       "    <tr>\n",
       "      <th>3</th>\n",
       "      <td>2007_000039.jpg</td>\n",
       "      <td>[521, 1526, 917, 674, 674, 674, 1227, 1033, 11...</td>\n",
       "    </tr>\n",
       "    <tr>\n",
       "      <th>4</th>\n",
       "      <td>2007_000042.jpg</td>\n",
       "      <td>[1833, 640, 651, 1393, 208, 239, 1841, 2020, 1...</td>\n",
       "    </tr>\n",
       "    <tr>\n",
       "      <th>...</th>\n",
       "      <td>...</td>\n",
       "      <td>...</td>\n",
       "    </tr>\n",
       "    <tr>\n",
       "      <th>7436</th>\n",
       "      <td>2012_004273.jpg</td>\n",
       "      <td>[776, 303, 149, 149, 255, 1303, 577, 577, 308,...</td>\n",
       "    </tr>\n",
       "    <tr>\n",
       "      <th>7437</th>\n",
       "      <td>2012_004292.jpg</td>\n",
       "      <td>[897, 652, 449, 834, 44, 44, 1585, 1418, 1585,...</td>\n",
       "    </tr>\n",
       "    <tr>\n",
       "      <th>7438</th>\n",
       "      <td>2012_004293.jpg</td>\n",
       "      <td>[343, 1891, 2006, 379, 1165, 135, 1279, 237, 1...</td>\n",
       "    </tr>\n",
       "    <tr>\n",
       "      <th>7439</th>\n",
       "      <td>2012_004310.jpg</td>\n",
       "      <td>[417, 210, 249, 992, 1057, 742, 1330, 1855, 13...</td>\n",
       "    </tr>\n",
       "    <tr>\n",
       "      <th>7440</th>\n",
       "      <td>2012_004312.jpg</td>\n",
       "      <td>[858, 561, 1942, 232, 714, 353, 868, 275, 922,...</td>\n",
       "    </tr>\n",
       "  </tbody>\n",
       "</table>\n",
       "<p>7441 rows × 2 columns</p>\n",
       "</div>"
      ],
      "text/plain": [
       "                 link                                          embedding\n",
       "0     2007_000027.jpg  [1459, 135, 1849, 288, 1625, 1789, 1989, 646, ...\n",
       "1     2007_000032.jpg  [517, 1234, 1888, 1091, 1978, 1830, 1888, 1017...\n",
       "2     2007_000033.jpg  [942, 371, 411, 632, 478, 266, 75, 23, 499, 13...\n",
       "3     2007_000039.jpg  [521, 1526, 917, 674, 674, 674, 1227, 1033, 11...\n",
       "4     2007_000042.jpg  [1833, 640, 651, 1393, 208, 239, 1841, 2020, 1...\n",
       "...               ...                                                ...\n",
       "7436  2012_004273.jpg  [776, 303, 149, 149, 255, 1303, 577, 577, 308,...\n",
       "7437  2012_004292.jpg  [897, 652, 449, 834, 44, 44, 1585, 1418, 1585,...\n",
       "7438  2012_004293.jpg  [343, 1891, 2006, 379, 1165, 135, 1279, 237, 1...\n",
       "7439  2012_004310.jpg  [417, 210, 249, 992, 1057, 742, 1330, 1855, 13...\n",
       "7440  2012_004312.jpg  [858, 561, 1942, 232, 714, 353, 868, 275, 922,...\n",
       "\n",
       "[7441 rows x 2 columns]"
      ]
     },
     "execution_count": 22,
     "metadata": {},
     "output_type": "execute_result"
    }
   ],
   "source": [
    "data0 = pd.read_csv(\"output.csv\", delimiter=',')\n",
    "data0['embedding'] = data0['embedding'].apply(lambda x: np.frombuffer(base64.b64decode(bytes(x[2:-1],encoding='ascii')), dtype=np.int32))\n",
    "data0"
   ]
  },
  {
   "cell_type": "markdown",
   "id": "0bb627e5",
   "metadata": {},
   "source": [
    "Расчет количества вхождения бинов в определенный вид кластера и перевод обратно в байтовый формат, после чего сохраненяем в таблицу"
   ]
  },
  {
   "cell_type": "code",
   "execution_count": 23,
   "id": "e2ef1ca9",
   "metadata": {},
   "outputs": [
    {
     "data": {
      "text/plain": [
       "0       b'AQMBAQAAAQIBAAACAAEBAAABAQQAAgIDAgAAAAABAQMC...\n",
       "1       b'AAAAAAEAAAABAgAAAAAAAAAAAAAAAAAAAQABAAABAAAA...\n",
       "2       b'AAAAAAAAAAABAwEAAAAAAQAAAAAAAAEBAAAAAgAAAAAA...\n",
       "3       b'AAAAAAAABAAAAQAAAAQAAAAAAAAAAAAAAAAAAAABAAAA...\n",
       "4       b'AQAAAQAAAAEAAQAAAAEAAQAAAQABAAEBAAAAAAEAAAAA...\n",
       "                              ...                        \n",
       "7436    b'AAEAAAAAAAACAwEAAAAAAAABAAAFAAEAAAAAAQAAAQAA...\n",
       "7437    b'AAEAAAAAAAACAAECAAEAAAABAgAGAAAAAAEBAQEAAQEA...\n",
       "7438    b'AAAAAAAAAAAAAAEAAAABAQAAAAEAAgACAAAAAAAAAAAA...\n",
       "7439    b'AAEAAAAAAAABAAABAAAAAgABAQADAQAAAgEAAAAAAQAB...\n",
       "7440    b'AQABAAIAAAAAAQIAAAAAAQEBAQAEAAAAAAMCAAAAAAAA...\n",
       "Name: embedding, Length: 7441, dtype: object"
      ]
     },
     "execution_count": 23,
     "metadata": {},
     "output_type": "execute_result"
    }
   ],
   "source": [
    "matrix=np.zeros((len(data0),2048),dtype=np.uint8)\n",
    "for j in range (len(data0)):\n",
    "    for i in range (len(data0['embedding'][j])):\n",
    "        matrix[j,data0['embedding'][j][i]]+=1\n",
    "    data0['embedding'][j]=(base64.b64encode(matrix[j]))\n",
    "data0.to_csv('output1.csv',index=False) \n",
    "data0['embedding']"
   ]
  }
 ],
 "metadata": {
  "kernelspec": {
   "display_name": "Python 3 (ipykernel)",
   "language": "python",
   "name": "python3"
  },
  "language_info": {
   "codemirror_mode": {
    "name": "ipython",
    "version": 3
   },
   "file_extension": ".py",
   "mimetype": "text/x-python",
   "name": "python",
   "nbconvert_exporter": "python",
   "pygments_lexer": "ipython3",
   "version": "3.10.7"
  }
 },
 "nbformat": 4,
 "nbformat_minor": 5
}
